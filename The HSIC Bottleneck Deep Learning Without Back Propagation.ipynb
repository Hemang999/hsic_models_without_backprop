{
  "cells": [
    {
      "cell_type": "markdown",
      "source": [
        "**Note: This is my updated notebook that includes all my previous work plus my attempt at modelling WITHOUT back-propagation for the HSIC Bottleneck networks. My detailed (unedited) review is at the very bottom of this notebook.**"
      ],
      "metadata": {
        "id": "mi_29wZ6kZ4_"
      }
    },
    {
      "cell_type": "code",
      "execution_count": null,
      "metadata": {
        "id": "Zrejp4V6ndvk"
      },
      "outputs": [],
      "source": [
        "import warnings\n",
        "import numpy as np\n",
        "import seaborn as sns\n",
        "from matplotlib import pyplot as plt\n",
        "\n",
        "import tensorflow as tf\n",
        "import keras.backend as K\n",
        "from keras import optimizers\n",
        "from keras.callbacks import EarlyStopping\n",
        "from keras.models import Sequential\n",
        "from keras.layers import Input, Lambda, Dense, Conv2D, Flatten, MaxPooling2D, Dropout\n",
        "\n",
        "from sklearn.metrics import accuracy_score\n",
        "\n",
        "sns.set()\n",
        "%matplotlib inline\n",
        "tf.compat.v1.disable_v2_behavior()\n",
        "warnings.filterwarnings(\"ignore\")"
      ]
    },
    {
      "cell_type": "markdown",
      "metadata": {
        "id": "PumDUXC1MeyZ"
      },
      "source": [
        "## User Defined Functions & Classes"
      ]
    },
    {
      "cell_type": "code",
      "execution_count": null,
      "metadata": {
        "id": "aogdy547b1IR"
      },
      "outputs": [],
      "source": [
        "# funtion to calculate the gaussian kernel matrix\n",
        "def kernel_matrix(x, sigma):\n",
        "    ndim = K.ndim(x)\n",
        "    x1 = K.expand_dims(x, 0)\n",
        "    x2 = K.expand_dims(x, 1)\n",
        "    axis = tuple(range(2, ndim+1))\n",
        "\n",
        "    return K.exp(-0.5*K.sum(K.pow(x1-x2, 2), axis=axis) / sigma ** 2)\n",
        "\n",
        "# function to calculate the HSIC bottleneck\n",
        "def hsic(Kx, Ky, m):\n",
        "    Kxy = K.dot(Kx, Ky)\n",
        "    h = tf.linalg.trace(Kxy) / m ** 2 + K.mean(Kx) * K.mean(Ky) - \\\n",
        "        2 * K.mean(Kxy) / m\n",
        "\n",
        "    return h * (m / (m-1))**2\n",
        "\n",
        "# class to train phase the hidden representations (called pre-training phase) using HSIC training paradigm\n",
        "class HSIC_pre_train(object):\n",
        "    def __init__(self, model, batch_size, lambda_0, sigma):\n",
        "        self.batch_size = batch_size\n",
        "        # initialize the inputs from the model\n",
        "        input_x = model._feed_inputs[0]\n",
        "        input_y = model._feed_targets[0]\n",
        "\n",
        "        # get the gaussian kernel matrices for the inputs\n",
        "        Kx = kernel_matrix(input_x, sigma)\n",
        "        Ky = kernel_matrix(input_y, sigma)\n",
        "\n",
        "\n",
        "        param2grad = {\n",
        "        }\n",
        "        trainable_params = []\n",
        "        total_loss = 0.\n",
        "\n",
        "        # loop over the layers of the model\n",
        "        for layer in model.layers:\n",
        "            # only train the hidden layers of the model\n",
        "            if layer.name.startswith(\"hsic\"):\n",
        "                params = layer.trainable_weights\n",
        "\n",
        "                if not params:\n",
        "                    continue\n",
        "\n",
        "                # get the hidden layer representation\n",
        "                hidden_z = layer.output\n",
        "                \n",
        "                # get the gaussian kernel matrix for the hidden layer\n",
        "                Kz = kernel_matrix(hidden_z, sigma)\n",
        "\n",
        "                # calculate the loss using the HSIC bottleneck for the hidden layer\n",
        "                loss = hsic(Kz, Kx, batch_size) - lambda_0 * hsic(Kz, Ky, batch_size)\n",
        "                total_loss += loss\n",
        "\n",
        "                trainable_params.extend(params)\n",
        "\n",
        "                # calculate the gradients\n",
        "                grads = K.gradients(loss, params)\n",
        "\n",
        "                for p, g in zip(params, grads):\n",
        "                    param2grad[p.name] = g\n",
        "            else:\n",
        "                # do not train any other layer other than the hidden layers\n",
        "                layer.trainable = False\n",
        "\n",
        "        # set the parameters of the hidden layers\n",
        "        model._collected_trainable_weights = trainable_params\n",
        "\n",
        "        # set the HSIC loss of the hidden layers\n",
        "        model.total_loss = total_loss\n",
        "\n",
        "        # get the optimizer of the model\n",
        "        optim = model.optimizer\n",
        "\n",
        "        # function to get the gradients from the calculated losses and parameters\n",
        "        def get_gradients(loss, params):\n",
        "            grads = [param2grad[p.name] for p in params]\n",
        "\n",
        "            if hasattr(self, 'clipnorm') and self.clipnorm > 0:\n",
        "                norm = K.sqrt(sum([K.sum(K.square(g)) for g in grads]))\n",
        "                grads = [K.clip_norm(g, self.clipnorm, norm) for g in grads]\n",
        "                \n",
        "            if hasattr(self, 'clipvalue') and self.clipvalue > 0:\n",
        "                grads = [K.clip(g, -self.clipvalue, self.clipvalue) for g in grads]\n",
        "\n",
        "            return grads\n",
        "\n",
        "        # calculate and set the gradients for the model optimizer\n",
        "        optim.get_gradients = get_gradients\n",
        "\n",
        "        self.model = model\n",
        "\n",
        "    # class method to reshape input\n",
        "    def reshape(self, x):\n",
        "        shape = list(K.int_shape(x))\n",
        "        shape[0] = self.batch_size\n",
        "\n",
        "        return K.reshape(x, tuple(shape))\n",
        "\n",
        "    def __call__(self):\n",
        "        return self.model\n",
        "\n",
        "# class to train the output layer of the model\n",
        "class HSIC_train(object):\n",
        "    def __init__(self, model):\n",
        "        # loop over the layers of the model\n",
        "        for layer in model.layers:\n",
        "            if layer.name == \"output_layer\":\n",
        "                # only train the output_layer                 \n",
        "                layer.trainable = True\n",
        "            else:\n",
        "                # do not train the network\n",
        "                layer.trainable = False\n",
        "                \n",
        "        self.model = model\n",
        "\n",
        "    def __call__(self):\n",
        "        return self.model"
      ]
    },
    {
      "cell_type": "markdown",
      "metadata": {
        "id": "spluBR36Mo5A"
      },
      "source": [
        "## Driver Code"
      ]
    },
    {
      "cell_type": "markdown",
      "metadata": {
        "id": "aqNRyHVoMs6A"
      },
      "source": [
        "### MNIST"
      ]
    },
    {
      "cell_type": "code",
      "execution_count": null,
      "metadata": {
        "colab": {
          "base_uri": "https://localhost:8080/"
        },
        "id": "dCnV7hmP-O7a",
        "outputId": "3251adc9-6d0f-4132-9a09-0416ffd674be"
      },
      "outputs": [
        {
          "output_type": "execute_result",
          "data": {
            "text/plain": [
              "[PhysicalDevice(name='/physical_device:GPU:0', device_type='GPU')]"
            ]
          },
          "metadata": {},
          "execution_count": 3
        }
      ],
      "source": [
        "# check device configuration\n",
        "tf.config.list_physical_devices('GPU')"
      ]
    },
    {
      "cell_type": "code",
      "execution_count": null,
      "metadata": {
        "id": "tiOWwvyUHRG8",
        "colab": {
          "base_uri": "https://localhost:8080/"
        },
        "outputId": "04c9efdf-d23a-434f-ed22-06f30842608e"
      },
      "outputs": [
        {
          "output_type": "stream",
          "name": "stdout",
          "text": [
            "Downloading data from https://storage.googleapis.com/tensorflow/tf-keras-datasets/mnist.npz\n",
            "11490434/11490434 [==============================] - 1s 0us/step\n"
          ]
        }
      ],
      "source": [
        "# load the dataset\n",
        "(x_train, y_train), (x_test, y_test) = tf.keras.datasets.mnist.load_data()"
      ]
    },
    {
      "cell_type": "code",
      "execution_count": null,
      "metadata": {
        "id": "Ipj-UcSzCSdW"
      },
      "outputs": [],
      "source": [
        "# get the names of the classes\n",
        "class_names = np.unique(y_train).tolist()"
      ]
    },
    {
      "cell_type": "code",
      "execution_count": null,
      "metadata": {
        "colab": {
          "base_uri": "https://localhost:8080/",
          "height": 341
        },
        "id": "Cbzt-mVHHnDW",
        "outputId": "c8b255df-35f8-4c5d-8c34-af5132f4b4e4"
      },
      "outputs": [
        {
          "output_type": "display_data",
          "data": {
            "text/plain": [
              "<Figure size 960x960 with 10 Axes>"
            ],
            "image/png": "[encoded data removed]"
          },
          "metadata": {}
        }
      ],
      "source": [
        "# display image number 100 in greyscale along with the label\n",
        "plt.figure(dpi=120, figsize=(8,8))\n",
        "\n",
        "for i in range(10):\n",
        "    plt.subplot(5, 5, i+1)\n",
        "    plt.xticks([])\n",
        "    plt.yticks([])\n",
        "    plt.grid(False)\n",
        "    plt.imshow(x_train[i], cmap=plt.cm.binary)\n",
        "    plt.xlabel(class_names[y_train[i]])\n",
        "\n",
        "plt.show()"
      ]
    },
    {
      "cell_type": "code",
      "execution_count": null,
      "metadata": {
        "colab": {
          "base_uri": "https://localhost:8080/"
        },
        "id": "lOsfOpYSH7Wr",
        "outputId": "09231a7b-4c8e-453b-b0fc-bc0d6a491279"
      },
      "outputs": [
        {
          "output_type": "execute_result",
          "data": {
            "text/plain": [
              "(60000, 28, 28)"
            ]
          },
          "metadata": {},
          "execution_count": 7
        }
      ],
      "source": [
        "# check the shape of images\n",
        "x_train.shape"
      ]
    },
    {
      "cell_type": "code",
      "execution_count": null,
      "metadata": {
        "id": "oJ-4JmHPIBgL"
      },
      "outputs": [],
      "source": [
        "# Reshaping the array to 4-dims so that it can work with Keras\n",
        "x_train = x_train.reshape(x_train.shape[0], 28, 28, 1)\n",
        "x_test = x_test.reshape(x_test.shape[0], 28, 28, 1)\n",
        "input_shape = (28, 28, 1)"
      ]
    },
    {
      "cell_type": "code",
      "execution_count": null,
      "metadata": {
        "id": "xhuxOvK52rlt"
      },
      "outputs": [],
      "source": [
        "# HSIC model building using Keras WITHOUT backpropagation\n",
        "modelHSIC_mnist = Sequential(name='HSIC Model (MNIST)')\n",
        "modelHSIC_mnist.add(Flatten(input_shape=input_shape))\n",
        "modelHSIC_mnist.add(Lambda(lambda x: K.stop_gradient(x), name='stop_backprop'))\n",
        "modelHSIC_mnist.add(Dense(784, activation='relu', name='hsic_dense1'))\n",
        "modelHSIC_mnist.add(Dense(256, activation='relu', name='hsic_dense2'))\n",
        "modelHSIC_mnist.add(Dense(256, activation='relu', name='hsic_dense3'))\n",
        "modelHSIC_mnist.add(Dense(256, activation='relu', name='hsic_dense4'))\n",
        "modelHSIC_mnist.add(Dense(256, activation='relu', name='hsic_dense5'))\n",
        "modelHSIC_mnist.add(Dense(256, activation='relu', name='hsic_dense6'))\n",
        "modelHSIC_mnist.add(Dense(10, activation='softmax', name='output_layer'))"
      ]
    },
    {
      "cell_type": "code",
      "execution_count": null,
      "metadata": {
        "id": "v2bpDX4A9eKb"
      },
      "outputs": [],
      "source": [
        "# compile the model\n",
        "modelHSIC_mnist.compile(optimizers.SGD(0.001), loss='sparse_categorical_crossentropy', metrics=['acc'])"
      ]
    },
    {
      "cell_type": "code",
      "execution_count": null,
      "metadata": {
        "id": "yhkv4k5Rj7co"
      },
      "outputs": [],
      "source": [
        "# implement the HSIC bottleneck algorithm\n",
        "modelHSIC_mnist = HSIC_pre_train(modelHSIC_mnist, batch_size=128, lambda_0=100, sigma=5)()"
      ]
    },
    {
      "cell_type": "code",
      "execution_count": null,
      "metadata": {
        "colab": {
          "base_uri": "https://localhost:8080/"
        },
        "id": "g5jYKUPWsd93",
        "outputId": "6b1c8064-af61-446c-dad3-41a3cfc733d0"
      },
      "outputs": [
        {
          "output_type": "stream",
          "name": "stdout",
          "text": [
            "Train on 48000 samples, validate on 12000 samples\n",
            "Epoch 1/10\n",
            "48000/48000 [==============================] - 8s 166us/sample - loss: -1.0731 - acc: 0.0825 - val_loss: -1.0628 - val_acc: 0.0828\n",
            "Epoch 2/10\n",
            "48000/48000 [==============================] - 5s 105us/sample - loss: -1.0731 - acc: 0.0825 - val_loss: -1.0643 - val_acc: 0.0828\n",
            "Epoch 3/10\n",
            "48000/48000 [==============================] - 5s 104us/sample - loss: -1.0741 - acc: 0.0825 - val_loss: -1.0655 - val_acc: 0.0828\n",
            "Epoch 4/10\n",
            "48000/48000 [==============================] - 5s 104us/sample - loss: -1.0732 - acc: 0.0825 - val_loss: -1.0646 - val_acc: 0.0828\n",
            "Epoch 5/10\n",
            "48000/48000 [==============================] - 5s 105us/sample - loss: -1.0746 - acc: 0.0825 - val_loss: -1.0646 - val_acc: 0.0828\n",
            "Epoch 6/10\n",
            "48000/48000 [==============================] - 5s 105us/sample - loss: -1.0740 - acc: 0.0825 - val_loss: -1.0656 - val_acc: 0.0828\n",
            "Epoch 7/10\n",
            "48000/48000 [==============================] - 5s 104us/sample - loss: -1.0743 - acc: 0.0825 - val_loss: -1.0651 - val_acc: 0.0828\n",
            "Epoch 8/10\n",
            "48000/48000 [==============================] - 5s 108us/sample - loss: -1.0736 - acc: 0.0825 - val_loss: -1.0646 - val_acc: 0.0828\n",
            "Epoch 9/10\n",
            "48000/48000 [==============================] - 5s 108us/sample - loss: -1.0736 - acc: 0.0825 - val_loss: -1.0647 - val_acc: 0.0828\n",
            "Epoch 10/10\n",
            "48000/48000 [==============================] - 5s 105us/sample - loss: -1.0734 - acc: 0.0825 - val_loss: -1.0632 - val_acc: 0.0828\n"
          ]
        },
        {
          "output_type": "execute_result",
          "data": {
            "text/plain": [
              "<keras.callbacks.History at 0x7fbb115fcd10>"
            ]
          },
          "metadata": {},
          "execution_count": 12
        }
      ],
      "source": [
        "# pre-train the hidden layers of the model\n",
        "modelHSIC_mnist.fit(x_train, y_train, epochs=10, validation_split=0.2, batch_size=128)"
      ]
    },
    {
      "cell_type": "code",
      "execution_count": null,
      "metadata": {
        "colab": {
          "base_uri": "https://localhost:8080/"
        },
        "id": "vvsbBNlkimlp",
        "outputId": "d91f504a-2af9-4adf-95db-1fa96a3d0287"
      },
      "outputs": [
        {
          "output_type": "stream",
          "name": "stdout",
          "text": [
            "Model: \"HSIC Model (MNIST)\"\n",
            "_________________________________________________________________\n",
            " Layer (type)                Output Shape              Param #   \n",
            "=================================================================\n",
            " flatten (Flatten)           (None, 784)               0         \n",
            "                                                                 \n",
            " stop_backprop (Lambda)      (None, 784)               0         \n",
            "                                                                 \n",
            " hsic_dense1 (Dense)         (None, 784)               615440    \n",
            "                                                                 \n",
            " hsic_dense2 (Dense)         (None, 256)               200960    \n",
            "                                                                 \n",
            " hsic_dense3 (Dense)         (None, 256)               65792     \n",
            "                                                                 \n",
            " hsic_dense4 (Dense)         (None, 256)               65792     \n",
            "                                                                 \n",
            " hsic_dense5 (Dense)         (None, 256)               65792     \n",
            "                                                                 \n",
            " hsic_dense6 (Dense)         (None, 256)               65792     \n",
            "                                                                 \n",
            " output_layer (Dense)        (None, 10)                2570      \n",
            "                                                                 \n",
            "=================================================================\n",
            "Total params: 2,159,136\n",
            "Trainable params: 1,079,568\n",
            "Non-trainable params: 1,079,568\n",
            "_________________________________________________________________\n"
          ]
        }
      ],
      "source": [
        "# freeze the hidden layer gradients of the model and implement post-training\n",
        "modelHSIC_mnist = HSIC_train(modelHSIC_mnist)()\n",
        "modelHSIC_mnist.summary()"
      ]
    },
    {
      "cell_type": "code",
      "execution_count": null,
      "metadata": {
        "id": "KmZctARHs1OQ"
      },
      "outputs": [],
      "source": [
        "# compile the model\n",
        "modelHSIC_mnist.compile(optimizers.SGD(0.001), loss=\"sparse_categorical_crossentropy\", metrics=[\"acc\"])"
      ]
    },
    {
      "cell_type": "code",
      "execution_count": null,
      "metadata": {
        "colab": {
          "base_uri": "https://localhost:8080/"
        },
        "id": "LVvy9ckos-Jm",
        "outputId": "5a229e6e-7097-4ee9-807a-46bb9bafe694"
      },
      "outputs": [
        {
          "output_type": "stream",
          "name": "stdout",
          "text": [
            "Train on 48000 samples, validate on 12000 samples\n",
            "Epoch 1/10\n",
            "48000/48000 [==============================] - 1s 24us/sample - loss: 1.0424 - acc: 0.7895 - val_loss: 0.4101 - val_acc: 0.8825\n",
            "Epoch 2/10\n",
            "48000/48000 [==============================] - 1s 22us/sample - loss: 0.3195 - acc: 0.9056 - val_loss: 0.3087 - val_acc: 0.9113\n",
            "Epoch 3/10\n",
            "48000/48000 [==============================] - 1s 22us/sample - loss: 0.2274 - acc: 0.9318 - val_loss: 0.2641 - val_acc: 0.9240\n",
            "Epoch 4/10\n",
            "48000/48000 [==============================] - 1s 23us/sample - loss: 0.1800 - acc: 0.9458 - val_loss: 0.2438 - val_acc: 0.9308\n",
            "Epoch 5/10\n",
            "48000/48000 [==============================] - 1s 23us/sample - loss: 0.1456 - acc: 0.9569 - val_loss: 0.2289 - val_acc: 0.9352\n",
            "Epoch 6/10\n",
            "48000/48000 [==============================] - 1s 23us/sample - loss: 0.1228 - acc: 0.9640 - val_loss: 0.2215 - val_acc: 0.9390\n",
            "Epoch 7/10\n",
            "48000/48000 [==============================] - 1s 23us/sample - loss: 0.1038 - acc: 0.9701 - val_loss: 0.2172 - val_acc: 0.9402\n",
            "Epoch 8/10\n",
            "48000/48000 [==============================] - 1s 23us/sample - loss: 0.0896 - acc: 0.9740 - val_loss: 0.2138 - val_acc: 0.9412\n",
            "Epoch 9/10\n",
            "48000/48000 [==============================] - 1s 22us/sample - loss: 0.0772 - acc: 0.9787 - val_loss: 0.2042 - val_acc: 0.9447\n",
            "Epoch 10/10\n",
            "48000/48000 [==============================] - 1s 22us/sample - loss: 0.0667 - acc: 0.9823 - val_loss: 0.2039 - val_acc: 0.9456\n"
          ]
        },
        {
          "output_type": "execute_result",
          "data": {
            "text/plain": [
              "<keras.callbacks.History at 0x7fbb1032a6d0>"
            ]
          },
          "metadata": {},
          "execution_count": 15
        }
      ],
      "source": [
        "# train the output layer of the model\n",
        "modelHSIC_mnist.fit(x_train, y_train, epochs=10, validation_split=0.2, batch_size=128)"
      ]
    },
    {
      "cell_type": "code",
      "execution_count": null,
      "metadata": {
        "id": "JPPSsiqwnlQH"
      },
      "outputs": [],
      "source": [
        "# use the HSIC trained model to make predictions on the test data\n",
        "y_pred = np.argmax(modelHSIC_mnist.predict(x_test), axis=1)"
      ]
    },
    {
      "cell_type": "code",
      "execution_count": null,
      "metadata": {
        "colab": {
          "base_uri": "https://localhost:8080/"
        },
        "id": "eeUtJNpMTMjN",
        "outputId": "569940b7-74eb-4063-968d-d75435924775"
      },
      "outputs": [
        {
          "output_type": "execute_result",
          "data": {
            "text/plain": [
              "94.8"
            ]
          },
          "metadata": {},
          "execution_count": 17
        }
      ],
      "source": [
        "# testing accuracy of the model\n",
        "accuracy_score(y_pred, y_test).round(3) * 100"
      ]
    },
    {
      "cell_type": "code",
      "execution_count": null,
      "metadata": {
        "colab": {
          "base_uri": "https://localhost:8080/",
          "height": 285
        },
        "id": "XbxolOVXTs4A",
        "outputId": "9ba0b9b2-df01-485c-b2ff-199407572546"
      },
      "outputs": [
        {
          "output_type": "stream",
          "name": "stdout",
          "text": [
            "7\n"
          ]
        },
        {
          "output_type": "display_data",
          "data": {
            "text/plain": [
              "<Figure size 432x288 with 1 Axes>"
            ],
            "image/png": "[encoded data removed]"
          },
          "metadata": {
            "needs_background": "light"
          }
        }
      ],
      "source": [
        "# make and plot the prediction of the HSIC trained model on a single image of the test data as an example\n",
        "image_index = 75\n",
        "plt.imshow(x_test[image_index].reshape(28, 28),cmap='Greys')\n",
        "pred = modelHSIC_mnist.predict(x_test[image_index].reshape(1, 28, 28, 1))\n",
        "print(pred.argmax())"
      ]
    },
    {
      "cell_type": "code",
      "execution_count": null,
      "metadata": {
        "id": "u1qNsSWIbTMA"
      },
      "outputs": [],
      "source": [
        "# Backprop model building using Keras (for comparison)\n",
        "modelBackprop_mnist = Sequential(name='Backprop Model (MNIST)')\n",
        "modelBackprop_mnist.add(Flatten(input_shape=input_shape))\n",
        "modelBackprop_mnist.add(Dense(784, activation='relu', name='mlp_dense1'))\n",
        "modelBackprop_mnist.add(Dense(256, activation='relu', name='mlp_dense2'))\n",
        "modelBackprop_mnist.add(Dense(256, activation='relu', name='mlp_dense3'))\n",
        "modelBackprop_mnist.add(Dense(256, activation='relu', name='mlp_dense4'))\n",
        "modelBackprop_mnist.add(Dense(256, activation='relu', name='mlp_dense5'))\n",
        "modelBackprop_mnist.add(Dense(256, activation='relu', name='mlp_dense6'))\n",
        "modelBackprop_mnist.add(Dense(10, activation='softmax', name='output_layer'))"
      ]
    },
    {
      "cell_type": "code",
      "execution_count": null,
      "metadata": {
        "colab": {
          "base_uri": "https://localhost:8080/"
        },
        "id": "D_5HrWu_bTMH",
        "outputId": "f093dfe4-efb3-4c35-a145-985201e41779"
      },
      "outputs": [
        {
          "output_type": "stream",
          "name": "stdout",
          "text": [
            "Model: \"Backprop Model (MNIST)\"\n",
            "_________________________________________________________________\n",
            " Layer (type)                Output Shape              Param #   \n",
            "=================================================================\n",
            " flatten_1 (Flatten)         (None, 784)               0         \n",
            "                                                                 \n",
            " mlp_dense1 (Dense)          (None, 784)               615440    \n",
            "                                                                 \n",
            " mlp_dense2 (Dense)          (None, 256)               200960    \n",
            "                                                                 \n",
            " mlp_dense3 (Dense)          (None, 256)               65792     \n",
            "                                                                 \n",
            " mlp_dense4 (Dense)          (None, 256)               65792     \n",
            "                                                                 \n",
            " mlp_dense5 (Dense)          (None, 256)               65792     \n",
            "                                                                 \n",
            " mlp_dense6 (Dense)          (None, 256)               65792     \n",
            "                                                                 \n",
            " output_layer (Dense)        (None, 10)                2570      \n",
            "                                                                 \n",
            "=================================================================\n",
            "Total params: 1,082,138\n",
            "Trainable params: 1,082,138\n",
            "Non-trainable params: 0\n",
            "_________________________________________________________________\n"
          ]
        }
      ],
      "source": [
        "# compile the model\n",
        "modelBackprop_mnist.compile(optimizers.SGD(0.001), loss='sparse_categorical_crossentropy', metrics=['acc'])\n",
        "modelBackprop_mnist.summary()"
      ]
    },
    {
      "cell_type": "code",
      "execution_count": null,
      "metadata": {
        "colab": {
          "base_uri": "https://localhost:8080/"
        },
        "id": "w3tTRlaIbTMH",
        "outputId": "bcefa296-2e4d-4a80-e891-0e93532376ed"
      },
      "outputs": [
        {
          "output_type": "stream",
          "name": "stdout",
          "text": [
            "Train on 48000 samples, validate on 12000 samples\n",
            "Epoch 1/10\n",
            "48000/48000 [==============================] - 1s 26us/sample - loss: 1.0575 - acc: 0.7935 - val_loss: 0.4016 - val_acc: 0.8850\n",
            "Epoch 2/10\n",
            "48000/48000 [==============================] - 1s 23us/sample - loss: 0.3221 - acc: 0.9058 - val_loss: 0.3145 - val_acc: 0.9071\n",
            "Epoch 3/10\n",
            "48000/48000 [==============================] - 1s 23us/sample - loss: 0.2297 - acc: 0.9319 - val_loss: 0.2738 - val_acc: 0.9196\n",
            "Epoch 4/10\n",
            "48000/48000 [==============================] - 1s 23us/sample - loss: 0.1800 - acc: 0.9459 - val_loss: 0.2526 - val_acc: 0.9263\n",
            "Epoch 5/10\n",
            "48000/48000 [==============================] - 1s 22us/sample - loss: 0.1454 - acc: 0.9564 - val_loss: 0.2342 - val_acc: 0.9321\n",
            "Epoch 6/10\n",
            "48000/48000 [==============================] - 1s 22us/sample - loss: 0.1208 - acc: 0.9645 - val_loss: 0.2259 - val_acc: 0.9356\n",
            "Epoch 7/10\n",
            "48000/48000 [==============================] - 1s 22us/sample - loss: 0.1023 - acc: 0.9707 - val_loss: 0.2148 - val_acc: 0.9394\n",
            "Epoch 8/10\n",
            "48000/48000 [==============================] - 1s 23us/sample - loss: 0.0865 - acc: 0.9756 - val_loss: 0.2141 - val_acc: 0.9395\n",
            "Epoch 9/10\n",
            "48000/48000 [==============================] - 1s 23us/sample - loss: 0.0750 - acc: 0.9790 - val_loss: 0.2144 - val_acc: 0.9411\n",
            "Epoch 10/10\n",
            "48000/48000 [==============================] - 1s 22us/sample - loss: 0.0640 - acc: 0.9827 - val_loss: 0.2090 - val_acc: 0.9439\n"
          ]
        },
        {
          "output_type": "execute_result",
          "data": {
            "text/plain": [
              "<keras.callbacks.History at 0x7fbb101abf10>"
            ]
          },
          "metadata": {},
          "execution_count": 21
        }
      ],
      "source": [
        "# train the model\n",
        "modelBackprop_mnist.fit(x_train, y_train, epochs=10, validation_split=0.2, batch_size=128)"
      ]
    },
    {
      "cell_type": "code",
      "execution_count": null,
      "metadata": {
        "id": "wevhwXv-bTMH"
      },
      "outputs": [],
      "source": [
        "# use the backprop model to make predictions on the test data\n",
        "y_pred = np.argmax(modelBackprop_mnist.predict(x_test), axis=1)"
      ]
    },
    {
      "cell_type": "code",
      "execution_count": null,
      "metadata": {
        "colab": {
          "base_uri": "https://localhost:8080/"
        },
        "id": "i-4GoC1-bTMH",
        "outputId": "8f8f9376-c4e4-475d-b33b-ed3bfe598139"
      },
      "outputs": [
        {
          "output_type": "execute_result",
          "data": {
            "text/plain": [
              "94.34"
            ]
          },
          "metadata": {},
          "execution_count": 23
        }
      ],
      "source": [
        "# accuracy of the backprop model\n",
        "accuracy_score(y_pred, y_test).round(4) * 100"
      ]
    },
    {
      "cell_type": "code",
      "execution_count": null,
      "metadata": {
        "colab": {
          "base_uri": "https://localhost:8080/",
          "height": 285
        },
        "id": "m8cbX-k5be1o",
        "outputId": "f980b62c-d07e-4d84-c92e-36eb08472e1e"
      },
      "outputs": [
        {
          "output_type": "stream",
          "name": "stdout",
          "text": [
            "7\n"
          ]
        },
        {
          "output_type": "display_data",
          "data": {
            "text/plain": [
              "<Figure size 432x288 with 1 Axes>"
            ],
            "image/png": "[encoded data removed]"
          },
          "metadata": {
            "needs_background": "light"
          }
        }
      ],
      "source": [
        "# make and plot the prediction of the backprop model on a single image of the test data as an example\n",
        "image_index = 75\n",
        "plt.imshow(x_test[image_index].reshape(28, 28),cmap='Greys')\n",
        "pred = modelBackprop_mnist.predict(x_test[image_index].reshape(1, 28, 28, 1))\n",
        "print(pred.argmax())"
      ]
    },
    {
      "cell_type": "markdown",
      "metadata": {
        "id": "RYnhFQ5mKaR2"
      },
      "source": [
        "### CIFAR-10"
      ]
    },
    {
      "cell_type": "code",
      "execution_count": null,
      "metadata": {
        "id": "AM8x-VsCKn8j",
        "colab": {
          "base_uri": "https://localhost:8080/"
        },
        "outputId": "87f10311-dc1b-4b80-e21e-b5e02efb5bac"
      },
      "outputs": [
        {
          "output_type": "stream",
          "name": "stdout",
          "text": [
            "Downloading data from https://www.cs.toronto.edu/~kriz/cifar-10-python.tar.gz\n",
            "170498071/170498071 [==============================] - 6s 0us/step\n"
          ]
        }
      ],
      "source": [
        "# load the dataset\n",
        "(x_train, y_train), (x_test, y_test) = tf.keras.datasets.cifar10.load_data()"
      ]
    },
    {
      "cell_type": "code",
      "execution_count": null,
      "metadata": {
        "id": "eMrIJBGiKn8j"
      },
      "outputs": [],
      "source": [
        "# set the label names for the classes\n",
        "label_names = {0:'airplane', 1:'automobile', 2:'bird', 3:'cat', \n",
        "               4:'deer', 5:'dog', 6:'frog', 7:'horse', 8:'ship', 9:'truck'}"
      ]
    },
    {
      "cell_type": "code",
      "execution_count": null,
      "metadata": {
        "colab": {
          "base_uri": "https://localhost:8080/",
          "height": 410
        },
        "id": "7mzP2yI4Kn8j",
        "outputId": "88824127-8cc3-4204-f04e-44f96e397e5f"
      },
      "outputs": [
        {
          "output_type": "display_data",
          "data": {
            "text/plain": [
              "<Figure size 1200x1200 with 10 Axes>"
            ],
            "image/png": "[encoded data removed]"
          },
          "metadata": {}
        }
      ],
      "source": [
        "# dispaly images along with the labels\n",
        "plt.figure(dpi=120, figsize=(10,10))\n",
        "\n",
        "for i in range(10):\n",
        "    plt.subplot(5,5,i+1)\n",
        "    plt.xticks([])\n",
        "    plt.yticks([])\n",
        "    plt.grid(False)\n",
        "    plt.imshow(x_train[i])\n",
        "    plt.xlabel(label_names[y_train[i][0]])\n",
        "    \n",
        "plt.show()"
      ]
    },
    {
      "cell_type": "code",
      "execution_count": null,
      "metadata": {
        "colab": {
          "base_uri": "https://localhost:8080/"
        },
        "id": "THPf4ds0Kn8j",
        "outputId": "7d0371e7-b7ec-41c6-bf8a-dd8558aff056"
      },
      "outputs": [
        {
          "output_type": "execute_result",
          "data": {
            "text/plain": [
              "(50000, 32, 32, 3)"
            ]
          },
          "metadata": {},
          "execution_count": 28
        }
      ],
      "source": [
        "# check the shape of images\n",
        "x_train.shape"
      ]
    },
    {
      "cell_type": "code",
      "execution_count": null,
      "metadata": {
        "id": "0CZfDELI-Y_p"
      },
      "outputs": [],
      "source": [
        "# set the input shape\n",
        "input_shape = x_train[0].shape"
      ]
    },
    {
      "cell_type": "code",
      "execution_count": null,
      "metadata": {
        "id": "VJJSgY1QKn8j"
      },
      "outputs": [],
      "source": [
        "# HSIC model building using Keras WITHOUT backpropagation\n",
        "modelHSIC_cifar = Sequential(name='HSIC Model (CIFAR-10)')\n",
        "\n",
        "modelHSIC_cifar.add(Input(shape=input_shape))\n",
        "modelHSIC_cifar.add(Lambda(lambda x: K.stop_gradient(x), name='stop_backprop'))\n",
        "\n",
        "modelHSIC_cifar.add(Conv2D(filters=32, kernel_size=(3,3), padding='same', activation='relu', name='hsic_conv1'))\n",
        "modelHSIC_cifar.add(MaxPooling2D(pool_size=(2,2)))\n",
        "modelHSIC_cifar.add(Conv2D(filters=64, kernel_size=(3,3), padding='same', activation='relu', name='hsic_conv2'))\n",
        "modelHSIC_cifar.add(MaxPooling2D(pool_size=(2,2)))\n",
        "\n",
        "modelHSIC_cifar.add(Flatten())\n",
        "\n",
        "modelHSIC_cifar.add(Dense(500, activation='relu', name='hsic_dense1'))\n",
        "modelHSIC_cifar.add(Dense(400, activation='relu', name='hsic_dense2'))\n",
        "modelHSIC_cifar.add(Dense(300, activation='relu', name='hsic_dense3'))\n",
        "modelHSIC_cifar.add(Dense(200, activation='relu', name='hsic_dense4'))\n",
        "modelHSIC_cifar.add(Dense(100, activation='relu', name='hsic_dense5'))\n",
        "\n",
        "modelHSIC_cifar.add(Dense(10, activation='softmax', name='output_layer'))"
      ]
    },
    {
      "cell_type": "code",
      "execution_count": null,
      "metadata": {
        "id": "x7hDlQ2yKn8k"
      },
      "outputs": [],
      "source": [
        "# compile the HSIC model\n",
        "modelHSIC_cifar.compile(optimizers.SGD(0.001), loss='sparse_categorical_crossentropy', metrics=['acc'])"
      ]
    },
    {
      "cell_type": "code",
      "execution_count": null,
      "metadata": {
        "id": "bk7sjokjKn8k"
      },
      "outputs": [],
      "source": [
        "# implement the HSIC bottleneck algorithm\n",
        "modelHSIC_cifar = HSIC_pre_train(modelHSIC_cifar, batch_size=128, lambda_0=100, sigma=5)()"
      ]
    },
    {
      "cell_type": "code",
      "execution_count": null,
      "metadata": {
        "colab": {
          "base_uri": "https://localhost:8080/"
        },
        "id": "gqGSWkraKn8k",
        "outputId": "3307a85e-836d-4027-fe6f-4d42f53f16e3"
      },
      "outputs": [
        {
          "output_type": "stream",
          "name": "stdout",
          "text": [
            "Train on 40000 samples, validate on 10000 samples\n",
            "Epoch 1/10\n",
            "40000/40000 [==============================] - 80s 2ms/sample - loss: -1.2401 - acc: 0.1001 - val_loss: -1.2808 - val_acc: 0.0996\n",
            "Epoch 2/10\n",
            "40000/40000 [==============================] - 74s 2ms/sample - loss: -1.2386 - acc: 0.1001 - val_loss: -1.2851 - val_acc: 0.0996\n",
            "Epoch 3/10\n",
            "40000/40000 [==============================] - 74s 2ms/sample - loss: -1.2406 - acc: 0.1001 - val_loss: -1.2843 - val_acc: 0.0996\n",
            "Epoch 4/10\n",
            "40000/40000 [==============================] - 74s 2ms/sample - loss: -1.2402 - acc: 0.1001 - val_loss: -1.2882 - val_acc: 0.0996\n",
            "Epoch 5/10\n",
            "40000/40000 [==============================] - 74s 2ms/sample - loss: -1.2390 - acc: 0.1001 - val_loss: -1.2852 - val_acc: 0.0996\n",
            "Epoch 6/10\n",
            "40000/40000 [==============================] - 74s 2ms/sample - loss: -1.2396 - acc: 0.1001 - val_loss: -1.2835 - val_acc: 0.0996\n",
            "Epoch 7/10\n",
            "40000/40000 [==============================] - 74s 2ms/sample - loss: -1.2383 - acc: 0.1001 - val_loss: -1.2868 - val_acc: 0.0996\n"
          ]
        },
        {
          "output_type": "execute_result",
          "data": {
            "text/plain": [
              "<keras.callbacks.History at 0x7fba720f7790>"
            ]
          },
          "metadata": {},
          "execution_count": 34
        }
      ],
      "source": [
        "# pre-train the hidden layers of the model\n",
        "modelHSIC_cifar.fit(x_train, y_train, epochs=10, validation_split=0.2, batch_size=128, \n",
        "                    callbacks=[EarlyStopping(monitor='val_loss', patience=3, restore_best_weights=True)], \n",
        "                    workers=256, use_multiprocessing=True)"
      ]
    },
    {
      "cell_type": "code",
      "execution_count": null,
      "metadata": {
        "colab": {
          "base_uri": "https://localhost:8080/"
        },
        "id": "sq0uVIpZKn8k",
        "outputId": "bee93c9d-6117-4002-d30e-6a90df96d1ea"
      },
      "outputs": [
        {
          "output_type": "stream",
          "name": "stdout",
          "text": [
            "Model: \"HSIC Model (CIFAR-10)\"\n",
            "_________________________________________________________________\n",
            " Layer (type)                Output Shape              Param #   \n",
            "=================================================================\n",
            " stop_backprop (Lambda)      (None, 32, 32, 3)         0         \n",
            "                                                                 \n",
            " hsic_conv1 (Conv2D)         (None, 32, 32, 32)        896       \n",
            "                                                                 \n",
            " max_pooling2d (MaxPooling2D  (None, 16, 16, 32)       0         \n",
            " )                                                               \n",
            "                                                                 \n",
            " hsic_conv2 (Conv2D)         (None, 16, 16, 64)        18496     \n",
            "                                                                 \n",
            " max_pooling2d_1 (MaxPooling  (None, 8, 8, 64)         0         \n",
            " 2D)                                                             \n",
            "                                                                 \n",
            " flatten_2 (Flatten)         (None, 4096)              0         \n",
            "                                                                 \n",
            " hsic_dense1 (Dense)         (None, 500)               2048500   \n",
            "                                                                 \n",
            " hsic_dense2 (Dense)         (None, 400)               200400    \n",
            "                                                                 \n",
            " hsic_dense3 (Dense)         (None, 300)               120300    \n",
            "                                                                 \n",
            " hsic_dense4 (Dense)         (None, 200)               60200     \n",
            "                                                                 \n",
            " hsic_dense5 (Dense)         (None, 100)               20100     \n",
            "                                                                 \n",
            " output_layer (Dense)        (None, 10)                1010      \n",
            "                                                                 \n",
            "=================================================================\n",
            "Total params: 4,937,784\n",
            "Trainable params: 2,468,892\n",
            "Non-trainable params: 2,468,892\n",
            "_________________________________________________________________\n"
          ]
        }
      ],
      "source": [
        "# freeze the hidden layer gradients of the model and implement post-training\n",
        "modelHSIC_cifar = HSIC_train(modelHSIC_cifar)()\n",
        "modelHSIC_cifar.summary()"
      ]
    },
    {
      "cell_type": "code",
      "execution_count": null,
      "metadata": {
        "id": "uoGuZlhXKn8k"
      },
      "outputs": [],
      "source": [
        "# compile the model\n",
        "modelHSIC_cifar.compile(optimizers.SGD(0.001), loss=\"sparse_categorical_crossentropy\", metrics=[\"acc\"])"
      ]
    },
    {
      "cell_type": "code",
      "execution_count": null,
      "metadata": {
        "colab": {
          "base_uri": "https://localhost:8080/"
        },
        "id": "ZjsyKZ6kKn8k",
        "outputId": "70978935-cb42-4bff-e9c0-5b4b8242ba43"
      },
      "outputs": [
        {
          "output_type": "stream",
          "name": "stdout",
          "text": [
            "Train on 40000 samples, validate on 10000 samples\n",
            "Epoch 1/10\n",
            "40000/40000 [==============================] - 3s 67us/sample - loss: 2.0846 - acc: 0.2815 - val_loss: 1.7901 - val_acc: 0.3438\n",
            "Epoch 2/10\n",
            "40000/40000 [==============================] - 2s 59us/sample - loss: 1.6882 - acc: 0.3894 - val_loss: 1.6613 - val_acc: 0.3996\n",
            "Epoch 3/10\n",
            "40000/40000 [==============================] - 2s 59us/sample - loss: 1.5712 - acc: 0.4314 - val_loss: 1.7428 - val_acc: 0.3835\n",
            "Epoch 4/10\n",
            "40000/40000 [==============================] - 2s 59us/sample - loss: 1.4950 - acc: 0.4623 - val_loss: 1.4851 - val_acc: 0.4629\n",
            "Epoch 5/10\n",
            "40000/40000 [==============================] - 2s 59us/sample - loss: 1.4391 - acc: 0.4848 - val_loss: 1.5466 - val_acc: 0.4497\n",
            "Epoch 6/10\n",
            "40000/40000 [==============================] - 2s 59us/sample - loss: 1.3923 - acc: 0.5003 - val_loss: 1.4460 - val_acc: 0.4827\n",
            "Epoch 7/10\n",
            "40000/40000 [==============================] - 2s 59us/sample - loss: 1.3529 - acc: 0.5153 - val_loss: 1.4624 - val_acc: 0.4814\n",
            "Epoch 8/10\n",
            "40000/40000 [==============================] - 2s 59us/sample - loss: 1.3091 - acc: 0.5337 - val_loss: 1.3828 - val_acc: 0.5101\n",
            "Epoch 9/10\n",
            "40000/40000 [==============================] - 2s 59us/sample - loss: 1.2761 - acc: 0.5468 - val_loss: 1.3756 - val_acc: 0.5123\n",
            "Epoch 10/10\n",
            "40000/40000 [==============================] - 2s 59us/sample - loss: 1.2495 - acc: 0.5573 - val_loss: 1.3946 - val_acc: 0.5049\n"
          ]
        },
        {
          "output_type": "execute_result",
          "data": {
            "text/plain": [
              "<keras.callbacks.History at 0x7fbb103335d0>"
            ]
          },
          "metadata": {},
          "execution_count": 37
        }
      ],
      "source": [
        "# train the output layer of the model\n",
        "modelHSIC_cifar.fit(x_train, y_train, epochs=10, validation_split=0.2, batch_size=128, \n",
        "                    callbacks=[EarlyStopping(monitor='val_acc', patience=3, restore_best_weights=True)])"
      ]
    },
    {
      "cell_type": "code",
      "execution_count": null,
      "metadata": {
        "id": "ZuAemWYsKn8k"
      },
      "outputs": [],
      "source": [
        "# make predictions using HSIC trained model on the test data\n",
        "y_pred = np.argmax(modelHSIC_cifar.predict(x_test), axis=1)"
      ]
    },
    {
      "cell_type": "code",
      "execution_count": null,
      "metadata": {
        "colab": {
          "base_uri": "https://localhost:8080/"
        },
        "id": "zRGKhE48Kn8k",
        "outputId": "e08e3e39-7a4b-42c7-ed76-cea2dcbbb868"
      },
      "outputs": [
        {
          "output_type": "execute_result",
          "data": {
            "text/plain": [
              "51.25999999999999"
            ]
          },
          "metadata": {},
          "execution_count": 43
        }
      ],
      "source": [
        "# accuracy of the HSIC trained model\n",
        "accuracy_score(y_pred, y_test).round(4) * 100"
      ]
    },
    {
      "cell_type": "code",
      "execution_count": null,
      "metadata": {
        "colab": {
          "base_uri": "https://localhost:8080/",
          "height": 285
        },
        "id": "UtVtn_JDKn8l",
        "outputId": "17477ad1-2ab7-4938-ba4a-479ff51cdf6b"
      },
      "outputs": [
        {
          "output_type": "stream",
          "name": "stdout",
          "text": [
            "deer\n"
          ]
        },
        {
          "output_type": "display_data",
          "data": {
            "text/plain": [
              "<Figure size 432x288 with 1 Axes>"
            ],
            "image/png": "[encoded data removed]"
          },
          "metadata": {
            "needs_background": "light"
          }
        }
      ],
      "source": [
        "# make and plot the prediction of the HSIC trained model on a single image of the test data as an example\n",
        "image_index = 75\n",
        "plt.imshow(x_test[image_index].reshape(32, 32, 3), cmap='Greys')\n",
        "pred = modelHSIC_cifar.predict(x_test[image_index].reshape(1, 32, 32, 3))\n",
        "print(label_names[pred.argmax()])"
      ]
    },
    {
      "cell_type": "code",
      "execution_count": null,
      "metadata": {
        "id": "j3k9SRoKKn8l"
      },
      "outputs": [],
      "source": [
        "# Backprop model building using Keras (for comparison)\n",
        "modelBackprop_cifar = Sequential(name='Backprop Model (CIFAR-10)')\n",
        "\n",
        "modelBackprop_cifar.add(Input(shape=input_shape))\n",
        "\n",
        "modelBackprop_cifar.add(Conv2D(filters=32, kernel_size=(3,3), padding='same', activation='relu', name='mlp_conv1'))\n",
        "modelBackprop_cifar.add(MaxPooling2D(pool_size=(2,2)))\n",
        "modelBackprop_cifar.add(Conv2D(filters=64, kernel_size=(3,3), padding='same', activation='relu', name='mlp_conv2'))\n",
        "modelBackprop_cifar.add(MaxPooling2D(pool_size=(2,2)))\n",
        "\n",
        "modelBackprop_cifar.add(Flatten())\n",
        "\n",
        "modelBackprop_cifar.add(Dense(500, activation='relu', name='mlp_dense1'))\n",
        "modelBackprop_cifar.add(Dense(400, activation='relu', name='mlp_dense2'))\n",
        "modelBackprop_cifar.add(Dense(300, activation='relu', name='mlp_dense3'))\n",
        "modelBackprop_cifar.add(Dense(200, activation='relu', name='mlp_dense4'))\n",
        "modelBackprop_cifar.add(Dense(100, activation='relu', name='mlp_dense5'))\n",
        "\n",
        "modelBackprop_cifar.add(Dense(10, activation='softmax', name='output_layer'))"
      ]
    },
    {
      "cell_type": "code",
      "execution_count": null,
      "metadata": {
        "colab": {
          "base_uri": "https://localhost:8080/"
        },
        "id": "C7ZBkxeAKn8l",
        "outputId": "ac71373e-c76a-46f0-a462-91efa6c1d1ce"
      },
      "outputs": [
        {
          "output_type": "stream",
          "name": "stdout",
          "text": [
            "Model: \"Backprop Model (CIFAR-10)\"\n",
            "_________________________________________________________________\n",
            " Layer (type)                Output Shape              Param #   \n",
            "=================================================================\n",
            " mlp_conv1 (Conv2D)          (None, 32, 32, 32)        896       \n",
            "                                                                 \n",
            " max_pooling2d_2 (MaxPooling  (None, 16, 16, 32)       0         \n",
            " 2D)                                                             \n",
            "                                                                 \n",
            " mlp_conv2 (Conv2D)          (None, 16, 16, 64)        18496     \n",
            "                                                                 \n",
            " max_pooling2d_3 (MaxPooling  (None, 8, 8, 64)         0         \n",
            " 2D)                                                             \n",
            "                                                                 \n",
            " flatten_3 (Flatten)         (None, 4096)              0         \n",
            "                                                                 \n",
            " mlp_dense1 (Dense)          (None, 500)               2048500   \n",
            "                                                                 \n",
            " mlp_dense2 (Dense)          (None, 400)               200400    \n",
            "                                                                 \n",
            " mlp_dense3 (Dense)          (None, 300)               120300    \n",
            "                                                                 \n",
            " mlp_dense4 (Dense)          (None, 200)               60200     \n",
            "                                                                 \n",
            " mlp_dense5 (Dense)          (None, 100)               20100     \n",
            "                                                                 \n",
            " output_layer (Dense)        (None, 10)                1010      \n",
            "                                                                 \n",
            "=================================================================\n",
            "Total params: 2,469,902\n",
            "Trainable params: 2,469,902\n",
            "Non-trainable params: 0\n",
            "_________________________________________________________________\n"
          ]
        }
      ],
      "source": [
        "# compile the model\n",
        "modelBackprop_cifar.compile(optimizers.SGD(0.001), loss='sparse_categorical_crossentropy', metrics=['acc'])\n",
        "modelBackprop_cifar.summary()"
      ]
    },
    {
      "cell_type": "code",
      "execution_count": null,
      "metadata": {
        "colab": {
          "base_uri": "https://localhost:8080/"
        },
        "id": "WZQQy0yiKn8l",
        "outputId": "cddcd495-d621-4f9b-835f-b7548c1fc096"
      },
      "outputs": [
        {
          "output_type": "stream",
          "name": "stdout",
          "text": [
            "Train on 40000 samples, validate on 10000 samples\n",
            "Epoch 1/10\n",
            "40000/40000 [==============================] - 3s 67us/sample - loss: 2.0719 - acc: 0.3051 - val_loss: 1.7362 - val_acc: 0.3746\n",
            "Epoch 2/10\n",
            "40000/40000 [==============================] - 2s 59us/sample - loss: 1.6514 - acc: 0.4081 - val_loss: 1.6324 - val_acc: 0.4199\n",
            "Epoch 3/10\n",
            "40000/40000 [==============================] - 2s 59us/sample - loss: 1.5303 - acc: 0.4535 - val_loss: 1.5214 - val_acc: 0.4552\n",
            "Epoch 4/10\n",
            "40000/40000 [==============================] - 2s 59us/sample - loss: 1.4680 - acc: 0.4757 - val_loss: 1.4467 - val_acc: 0.4845\n",
            "Epoch 5/10\n",
            "40000/40000 [==============================] - 2s 59us/sample - loss: 1.4049 - acc: 0.5007 - val_loss: 1.3990 - val_acc: 0.5039\n",
            "Epoch 6/10\n",
            "40000/40000 [==============================] - 2s 59us/sample - loss: 1.3583 - acc: 0.5164 - val_loss: 1.4250 - val_acc: 0.4872\n",
            "Epoch 7/10\n",
            "40000/40000 [==============================] - 2s 62us/sample - loss: 1.3122 - acc: 0.5330 - val_loss: 1.3826 - val_acc: 0.5048\n",
            "Epoch 8/10\n",
            "40000/40000 [==============================] - 3s 63us/sample - loss: 1.2821 - acc: 0.5450 - val_loss: 1.5127 - val_acc: 0.4777\n",
            "Epoch 9/10\n",
            "40000/40000 [==============================] - 2s 59us/sample - loss: 1.2532 - acc: 0.5571 - val_loss: 1.3646 - val_acc: 0.5184\n",
            "Epoch 10/10\n",
            "40000/40000 [==============================] - 2s 59us/sample - loss: 1.2200 - acc: 0.5688 - val_loss: 1.2817 - val_acc: 0.5438\n"
          ]
        },
        {
          "output_type": "execute_result",
          "data": {
            "text/plain": [
              "<keras.callbacks.History at 0x7fbb1029ba10>"
            ]
          },
          "metadata": {},
          "execution_count": 47
        }
      ],
      "source": [
        "# train the backprop model\n",
        "modelBackprop_cifar.fit(x_train, y_train, epochs=10, validation_split=0.2, batch_size=128, \n",
        "                    callbacks=[EarlyStopping(monitor='val_acc', patience=3, restore_best_weights=True)])"
      ]
    },
    {
      "cell_type": "code",
      "execution_count": null,
      "metadata": {
        "id": "SI6CgmPfKn8l"
      },
      "outputs": [],
      "source": [
        "# use the backprop model to make predictions on the test data\n",
        "y_pred = np.argmax(modelBackprop_cifar.predict(x_test), axis=1)"
      ]
    },
    {
      "cell_type": "code",
      "execution_count": null,
      "metadata": {
        "colab": {
          "base_uri": "https://localhost:8080/"
        },
        "id": "q7FwqFHxKn8l",
        "outputId": "11a9316d-bf29-40d7-97fb-c39aa39525d2"
      },
      "outputs": [
        {
          "output_type": "execute_result",
          "data": {
            "text/plain": [
              "54.1"
            ]
          },
          "metadata": {},
          "execution_count": 52
        }
      ],
      "source": [
        "# accuracy of the backprop model\n",
        "accuracy_score(y_pred, y_test).round(3) * 100"
      ]
    },
    {
      "cell_type": "code",
      "execution_count": null,
      "metadata": {
        "colab": {
          "base_uri": "https://localhost:8080/",
          "height": 285
        },
        "id": "pwUx8kbIKn8l",
        "outputId": "2b39374b-a291-42b7-9c22-c9d07f325261"
      },
      "outputs": [
        {
          "output_type": "stream",
          "name": "stdout",
          "text": [
            "bird\n"
          ]
        },
        {
          "output_type": "display_data",
          "data": {
            "text/plain": [
              "<Figure size 432x288 with 1 Axes>"
            ],
            "image/png": "[encoded data removed]"
          },
          "metadata": {
            "needs_background": "light"
          }
        }
      ],
      "source": [
        "# make and plot the prediction of the backprop model on a single image of the test data as an example\n",
        "image_index = 75\n",
        "plt.imshow(x_test[image_index].reshape(32, 32, 3), cmap='Greys')\n",
        "pred = modelBackprop_cifar.predict(x_test[image_index].reshape(1, 32, 32, 3))\n",
        "print(label_names[pred.argmax()])"
      ]
    },
    {
      "cell_type": "markdown",
      "source": [
        "## Visualisation"
      ],
      "metadata": {
        "id": "c8iiiyxh4qaj"
      }
    },
    {
      "cell_type": "markdown",
      "source": [
        "### Accuracy vs. Epochs"
      ],
      "metadata": {
        "id": "07DTvfedWpCh"
      }
    },
    {
      "cell_type": "code",
      "execution_count": null,
      "metadata": {
        "colab": {
          "base_uri": "https://localhost:8080/",
          "height": 663
        },
        "id": "4D3qDwejcDbh",
        "outputId": "eb5379be-a2d1-49f3-dfb7-a464fa91ca20"
      },
      "outputs": [
        {
          "output_type": "display_data",
          "data": {
            "text/plain": [
              "<Figure size 1100x660 with 4 Axes>"
            ],
            "image/png": "[encoded data removed]"
          },
          "metadata": {
            "needs_background": "light"
          }
        }
      ],
      "source": [
        "fig, ax = plt.subplots(nrows=2, ncols=2, sharex=True, sharey=True, dpi=110, figsize=(10, 6))\n",
        "ax[0, 0].plot(modelHSIC_mnist.history.history['acc'], label='training accuracy')\n",
        "ax[0, 0].plot(modelHSIC_mnist.history.history['val_acc'], label = 'validation accuracy')\n",
        "ax[0, 0].set_title('HSIC Model (MNIST)')\n",
        "ax[1, 0].plot(modelBackprop_mnist.history.history['acc'], label='training accuracy')\n",
        "ax[1, 0].plot(modelBackprop_mnist.history.history['val_acc'], label = 'validation accuracy')\n",
        "ax[1, 0].set_title('Backprop Model (MNIST)')\n",
        "ax[0, 1].plot(modelHSIC_cifar.history.history['acc'], label='training accuracy')\n",
        "ax[0, 1].plot(modelHSIC_cifar.history.history['val_acc'], label = 'validation accuracy')\n",
        "ax[0, 1].set_title('HSIC Model (CIFAR-10)')\n",
        "ax[1, 1].plot(modelBackprop_cifar.history.history['acc'], label='training accuracy')\n",
        "ax[1, 1].plot(modelBackprop_cifar.history.history['val_acc'], label = 'validation accuracy')\n",
        "ax[1, 1].set_title('Backprop Model (CIFAR-10)')\n",
        "fig.suptitle('Accuracy vs. Epochs')\n",
        "fig.text(0.5, 0.04, 'Epoch', ha='center', fontsize='x-large')\n",
        "fig.text(0.04, 0.5, 'Accuracy', va='center', rotation='vertical', fontsize='x-large')\n",
        "plt.xlim([0, 10])\n",
        "plt.ylim([0, 1])\n",
        "plt.legend(loc='lower right')\n",
        "plt.show()"
      ]
    },
    {
      "cell_type": "markdown",
      "source": [
        "### Loss vs. Epochs"
      ],
      "metadata": {
        "id": "Rcd0foO1W0ep"
      }
    },
    {
      "cell_type": "code",
      "source": [
        "fig, ax = plt.subplots(nrows=2, ncols=2, sharex=True, sharey=True, dpi=110, figsize=(10, 6))\n",
        "ax[0, 0].plot(modelHSIC_mnist.history.history['loss'], label='training loss')\n",
        "ax[0, 0].plot(modelHSIC_mnist.history.history['val_loss'], label = 'validation loss')\n",
        "ax[0, 0].set_title('HSIC Model (MNIST)')\n",
        "ax[1, 0].plot(modelBackprop_mnist.history.history['loss'], label='training loss')\n",
        "ax[1, 0].plot(modelBackprop_mnist.history.history['val_loss'], label = 'validation loss')\n",
        "ax[1, 0].set_title('Backprop Model (MNIST)')\n",
        "ax[0, 1].plot(modelHSIC_cifar.history.history['loss'], label='training loss')\n",
        "ax[0, 1].plot(modelHSIC_cifar.history.history['val_loss'], label = 'validation loss')\n",
        "ax[0, 1].set_title('HSIC Model (CIFAR-10)')\n",
        "ax[1, 1].plot(modelBackprop_cifar.history.history['loss'], label='training loss')\n",
        "ax[1, 1].plot(modelBackprop_cifar.history.history['val_loss'], label = 'validation loss')\n",
        "ax[1, 1].set_title('Backprop Model (CIFAR-10)')\n",
        "fig.suptitle('Loss vs. Epochs')\n",
        "fig.text(0.5, 0.04, 'Epoch', ha='center', fontsize='x-large')\n",
        "fig.text(0.04, 0.5, 'Loss', va='center', rotation='vertical', fontsize='x-large')\n",
        "plt.xlim([0, 10])\n",
        "plt.ylim([-1, 3])\n",
        "plt.legend(loc='lower right')\n",
        "plt.show()"
      ],
      "metadata": {
        "colab": {
          "base_uri": "https://localhost:8080/",
          "height": 663
        },
        "id": "EeEFoe_r4v7z",
        "outputId": "a6d02b13-8e7b-43a8-f40c-4e372591feba"
      },
      "execution_count": null,
      "outputs": [
        {
          "output_type": "display_data",
          "data": {
            "text/plain": [
              "<Figure size 1100x660 with 4 Axes>"
            ],
            "image/png": "[encoded data removed]"
          },
          "metadata": {
            "needs_background": "light"
          }
        }
      ]
    },
    {
      "cell_type": "markdown",
      "source": [
        "## Improvement"
      ],
      "metadata": {
        "id": "F5flYZBRJTXp"
      }
    },
    {
      "cell_type": "code",
      "execution_count": null,
      "metadata": {
        "id": "MyElo_pYJx-Q"
      },
      "outputs": [],
      "source": [
        "# HSIC model building using Keras (for improvement)\n",
        "modelHSIC_cifar_improve = Sequential(name='HSIC Model (CIFAR-10)')\n",
        "\n",
        "modelHSIC_cifar_improve.add(Input(shape=input_shape))\n",
        "modelHSIC_cifar_improve.add(Lambda(lambda x: K.stop_gradient(x), name='stop_backprop'))\n",
        "\n",
        "modelHSIC_cifar_improve.add(Conv2D(filters=32, kernel_size=(3,3), padding='same', activation='relu', name='hsic_conv1'))\n",
        "modelHSIC_cifar_improve.add(MaxPooling2D(pool_size=(2,2)))\n",
        "modelHSIC_cifar_improve.add(Conv2D(filters=64, kernel_size=(3,3), padding='same', activation='relu', name='hsic_conv2'))\n",
        "modelHSIC_cifar_improve.add(MaxPooling2D(pool_size=(2,2)))\n",
        "\n",
        "modelHSIC_cifar_improve.add(Flatten())\n",
        "\n",
        "modelHSIC_cifar_improve.add(Dense(500, activation='relu', name='hsic_dense1'))\n",
        "modelHSIC_cifar_improve.add(Dense(400, activation='relu', name='hsic_dense2'))\n",
        "modelHSIC_cifar_improve.add(Dense(300, activation='relu', name='hsic_dense3'))\n",
        "modelHSIC_cifar_improve.add(Dense(200, activation='relu', name='hsic_dense4'))\n",
        "modelHSIC_cifar_improve.add(Dense(100, activation='relu', name='hsic_dense5'))\n",
        "\n",
        "# adding droput this time\n",
        "modelHSIC_cifar_improve.add(Dropout(0.3))\n",
        "\n",
        "modelHSIC_cifar_improve.add(Dense(10, activation='softmax', name='output_layer'))"
      ]
    },
    {
      "cell_type": "code",
      "execution_count": null,
      "metadata": {
        "id": "h-R5BrkWJx-R"
      },
      "outputs": [],
      "source": [
        "# compile the model\n",
        "modelHSIC_cifar_improve.compile(optimizers.SGD(0.001), loss='sparse_categorical_crossentropy', metrics=['acc'])"
      ]
    },
    {
      "cell_type": "code",
      "execution_count": null,
      "metadata": {
        "id": "9XeG5R3AJx-R"
      },
      "outputs": [],
      "source": [
        "# implement the HSIC bottleneck algorithm\n",
        "modelHSIC_cifar_improve = HSIC_pre_train(modelHSIC_cifar_improve, batch_size=128, lambda_0=100, sigma=5)()"
      ]
    },
    {
      "cell_type": "code",
      "execution_count": null,
      "metadata": {
        "colab": {
          "base_uri": "https://localhost:8080/"
        },
        "outputId": "9b9e5193-c908-45e9-e400-801991825301",
        "id": "Ezi65wjmJx-R"
      },
      "outputs": [
        {
          "output_type": "stream",
          "name": "stdout",
          "text": [
            "Train on 40000 samples, validate on 10000 samples\n",
            "Epoch 1/10\n",
            "40000/40000 [==============================] - 75s 2ms/sample - loss: -1.2380 - acc: 0.1028 - val_loss: -1.2821 - val_acc: 0.1006\n",
            "Epoch 2/10\n",
            "40000/40000 [==============================] - 74s 2ms/sample - loss: -1.2399 - acc: 0.1015 - val_loss: -1.2838 - val_acc: 0.1006\n",
            "Epoch 3/10\n",
            "40000/40000 [==============================] - 74s 2ms/sample - loss: -1.2390 - acc: 0.1033 - val_loss: -1.2819 - val_acc: 0.1006\n",
            "Epoch 4/10\n",
            "40000/40000 [==============================] - 74s 2ms/sample - loss: -1.2389 - acc: 0.1033 - val_loss: -1.2866 - val_acc: 0.1006\n",
            "Epoch 5/10\n",
            "40000/40000 [==============================] - 74s 2ms/sample - loss: -1.2395 - acc: 0.1041 - val_loss: -1.2813 - val_acc: 0.1006\n",
            "Epoch 6/10\n",
            "40000/40000 [==============================] - 74s 2ms/sample - loss: -1.2388 - acc: 0.1032 - val_loss: -1.2842 - val_acc: 0.1006\n",
            "Epoch 7/10\n",
            "40000/40000 [==============================] - 74s 2ms/sample - loss: -1.2393 - acc: 0.1025 - val_loss: -1.2862 - val_acc: 0.1006\n"
          ]
        },
        {
          "output_type": "execute_result",
          "data": {
            "text/plain": [
              "<keras.callbacks.History at 0x7fba2d21f2d0>"
            ]
          },
          "metadata": {},
          "execution_count": 70
        }
      ],
      "source": [
        "# pre-train the hidden layers of the model\n",
        "modelHSIC_cifar_improve.fit(x_train, y_train, epochs=10, validation_split=0.2, batch_size=128, \n",
        "                    callbacks=[EarlyStopping(monitor='val_loss', patience=3, restore_best_weights=True)], \n",
        "                    workers=256, use_multiprocessing=True)"
      ]
    },
    {
      "cell_type": "code",
      "execution_count": null,
      "metadata": {
        "colab": {
          "base_uri": "https://localhost:8080/"
        },
        "outputId": "27134dfc-b675-4e70-e3af-68b890d8ff0c",
        "id": "Ed8RgPWtJx-R"
      },
      "outputs": [
        {
          "output_type": "stream",
          "name": "stdout",
          "text": [
            "Model: \"HSIC Model (CIFAR-10)\"\n",
            "_________________________________________________________________\n",
            " Layer (type)                Output Shape              Param #   \n",
            "=================================================================\n",
            " stop_backprop (Lambda)      (None, 32, 32, 3)         0         \n",
            "                                                                 \n",
            " hsic_conv1 (Conv2D)         (None, 32, 32, 32)        896       \n",
            "                                                                 \n",
            " max_pooling2d_6 (MaxPooling  (None, 16, 16, 32)       0         \n",
            " 2D)                                                             \n",
            "                                                                 \n",
            " hsic_conv2 (Conv2D)         (None, 16, 16, 64)        18496     \n",
            "                                                                 \n",
            " max_pooling2d_7 (MaxPooling  (None, 8, 8, 64)         0         \n",
            " 2D)                                                             \n",
            "                                                                 \n",
            " flatten_5 (Flatten)         (None, 4096)              0         \n",
            "                                                                 \n",
            " hsic_dense1 (Dense)         (None, 500)               2048500   \n",
            "                                                                 \n",
            " hsic_dense2 (Dense)         (None, 400)               200400    \n",
            "                                                                 \n",
            " hsic_dense3 (Dense)         (None, 300)               120300    \n",
            "                                                                 \n",
            " hsic_dense4 (Dense)         (None, 200)               60200     \n",
            "                                                                 \n",
            " hsic_dense5 (Dense)         (None, 100)               20100     \n",
            "                                                                 \n",
            " dropout_1 (Dropout)         (None, 100)               0         \n",
            "                                                                 \n",
            " output_layer (Dense)        (None, 10)                1010      \n",
            "                                                                 \n",
            "=================================================================\n",
            "Total params: 4,937,784\n",
            "Trainable params: 2,468,892\n",
            "Non-trainable params: 2,468,892\n",
            "_________________________________________________________________\n"
          ]
        }
      ],
      "source": [
        "# train the output layer of the model\n",
        "modelHSIC_cifar_improve = HSIC_train(modelHSIC_cifar_improve)()\n",
        "modelHSIC_cifar_improve.summary()"
      ]
    },
    {
      "cell_type": "code",
      "execution_count": null,
      "metadata": {
        "id": "z9noWa4dJx-R"
      },
      "outputs": [],
      "source": [
        "# compile the model\n",
        "modelHSIC_cifar_improve.compile(optimizers.SGD(0.001), loss=\"sparse_categorical_crossentropy\", metrics=[\"acc\"])"
      ]
    },
    {
      "cell_type": "code",
      "execution_count": null,
      "metadata": {
        "colab": {
          "base_uri": "https://localhost:8080/"
        },
        "outputId": "8dd93089-1322-462f-bb03-bfd152f26b36",
        "id": "082P91zVJx-R"
      },
      "outputs": [
        {
          "output_type": "stream",
          "name": "stdout",
          "text": [
            "Train on 40000 samples, validate on 10000 samples\n",
            "Epoch 1/10\n",
            "40000/40000 [==============================] - 3s 72us/sample - loss: 2.4067 - acc: 0.2107 - val_loss: 1.9169 - val_acc: 0.3178\n",
            "Epoch 2/10\n",
            "40000/40000 [==============================] - 2s 61us/sample - loss: 1.9066 - acc: 0.3135 - val_loss: 1.7834 - val_acc: 0.3729\n",
            "Epoch 3/10\n",
            "40000/40000 [==============================] - 2s 60us/sample - loss: 1.7776 - acc: 0.3643 - val_loss: 1.6595 - val_acc: 0.4148\n",
            "Epoch 4/10\n",
            "40000/40000 [==============================] - 2s 60us/sample - loss: 1.6935 - acc: 0.3950 - val_loss: 1.5709 - val_acc: 0.4466\n",
            "Epoch 5/10\n",
            "40000/40000 [==============================] - 2s 60us/sample - loss: 1.6197 - acc: 0.4229 - val_loss: 1.5636 - val_acc: 0.4481\n",
            "Epoch 6/10\n",
            "40000/40000 [==============================] - 2s 60us/sample - loss: 1.5674 - acc: 0.4414 - val_loss: 1.5286 - val_acc: 0.4493\n",
            "Epoch 7/10\n",
            "40000/40000 [==============================] - 2s 61us/sample - loss: 1.5291 - acc: 0.4528 - val_loss: 1.4788 - val_acc: 0.4745\n",
            "Epoch 8/10\n",
            "40000/40000 [==============================] - 2s 60us/sample - loss: 1.4909 - acc: 0.4679 - val_loss: 1.4436 - val_acc: 0.4894\n",
            "Epoch 9/10\n",
            "40000/40000 [==============================] - 3s 63us/sample - loss: 1.4580 - acc: 0.4812 - val_loss: 1.4688 - val_acc: 0.4821\n",
            "Epoch 10/10\n",
            "40000/40000 [==============================] - 2s 60us/sample - loss: 1.4314 - acc: 0.4927 - val_loss: 1.3826 - val_acc: 0.5123\n"
          ]
        },
        {
          "output_type": "execute_result",
          "data": {
            "text/plain": [
              "<keras.callbacks.History at 0x7fba2d276650>"
            ]
          },
          "metadata": {},
          "execution_count": 73
        }
      ],
      "source": [
        "# train the output layer of the model\n",
        "modelHSIC_cifar_improve.fit(x_train, y_train, epochs=10, validation_split=0.2, batch_size=128, \n",
        "                    callbacks=[EarlyStopping(monitor='val_acc', patience=3, restore_best_weights=True)])"
      ]
    },
    {
      "cell_type": "code",
      "execution_count": null,
      "metadata": {
        "id": "wbU1Dt2nJx-R"
      },
      "outputs": [],
      "source": [
        "# make predictions using HSIC trained model on the test data\n",
        "y_pred = np.argmax(modelHSIC_cifar_improve.predict(x_test), axis=1)"
      ]
    },
    {
      "cell_type": "code",
      "execution_count": null,
      "metadata": {
        "colab": {
          "base_uri": "https://localhost:8080/"
        },
        "outputId": "7aea4f0c-442a-4d04-9149-bdaa3b87cf5e",
        "id": "Dm21x56RJx-R"
      },
      "outputs": [
        {
          "output_type": "stream",
          "name": "stdout",
          "text": [
            "Training Accuracy: 53.400000000000006\n",
            "Testing Accuracy: 51.81\n"
          ]
        }
      ],
      "source": [
        "print(\"Training Accuracy:\", accuracy_score(np.argmax(modelHSIC_cifar_improve.predict(x_train), axis=1), y_train).round(4) * 100)\n",
        "print(\"Testing Accuracy:\", accuracy_score(y_pred, y_test).round(4) * 100)"
      ]
    },
    {
      "cell_type": "code",
      "source": [
        "plt.figure(dpi=120, figsize=(8,5))\n",
        "plt.plot(modelHSIC_cifar_improve.history.history['acc'], label='training accuracy')\n",
        "plt.plot(modelHSIC_cifar_improve.history.history['val_acc'], label = 'validation accuracy')\n",
        "plt.title('Accuracy vs. Epochs')\n",
        "plt.xlabel('Epoch')\n",
        "plt.ylabel('Accuracy')\n",
        "plt.ylim([0, 1])\n",
        "plt.legend(loc='lower right')\n",
        "plt.show()"
      ],
      "metadata": {
        "colab": {
          "base_uri": "https://localhost:8080/",
          "height": 578
        },
        "id": "YNE0psCnCasp",
        "outputId": "be0558d1-e5df-425c-e7b1-29f4e5e131a9"
      },
      "execution_count": null,
      "outputs": [
        {
          "output_type": "display_data",
          "data": {
            "text/plain": [
              "<Figure size 960x600 with 1 Axes>"
            ],
            "image/png": "[encoded data removed]"
          },
          "metadata": {
            "needs_background": "light"
          }
        }
      ]
    },
    {
      "cell_type": "markdown",
      "source": [
        "## My Review\n",
        "\n",
        "The authors have managed to come up with an algorithm that is robust and works as promised. The objective function effectively eliminates back-propagation along with its many disadvantages. Personally, I found the algorithm to be absolutely elegant and ingenius, making the hidden representations Z less dependent on X and as much dependent of Y as possible which results in directly computing the gradients, with the help of the HSIC objective function in each hidden layer, without any back-propagation. In terms of accuracy, it certainly trades blows with it's traditional backprop peers, and in some of my experiments (as shown in this notebook) even exceedes them.\n",
        "\n",
        "However, there are also some shortcomings of this algorithm as mentioned below:- \n",
        "1. It is not a user friendly algorithm (yet) and takes some thorough research and experimentation to implement and make it work.\n",
        "2. It was noticeably slower in terms of training speed and takes more computing resources to train than it's backprop peers.\n",
        "3. It is heavier with roughly twice the number of parameters.\n",
        "4. Theoretically, it is supposed to eliminate overfitting. Practically, that wasn't the case.\n",
        "\n",
        "## Improvement\n",
        "\n",
        "I wasn't sure what I could do to improve the performance of the model (if only I had a few more days!!!). However, I did notice in my experiments that, at least for shallow-ish networks, the level of overfitting was roughly the same as the backprop model.\n",
        "\n",
        "To fix this, I simply added a dropout layer in the network and it was able to reduce overfitting by a large amount.\n",
        "\n",
        "## Future Work\n",
        "\n",
        "I imagine that these type of networks trained on the HSIC bottleneck based paradigm would be highly advantageous in very deep models, especially in the computer vision based field where models such as ResNet and VGG models are very popular. Moreover, it can (perhaps) also be used in real-time object detection, like the YOLO model."
      ],
      "metadata": {
        "id": "74x6Lo-OZHSx"
      }
    }
  ],
  "metadata": {
    "accelerator": "GPU",
    "colab": {
      "machine_shape": "hm",
      "provenance": []
    },
    "gpuClass": "premium",
    "kernelspec": {
      "display_name": "Python 3",
      "name": "python3"
    },
    "language_info": {
      "name": "python"
    }
  },
  "nbformat": 4,
  "nbformat_minor": 0
}